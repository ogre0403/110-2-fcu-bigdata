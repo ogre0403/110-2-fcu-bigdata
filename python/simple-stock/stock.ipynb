{
 "cells": [
  {
   "cell_type": "code",
   "execution_count": 10,
   "id": "1e6fc49f",
   "metadata": {},
   "outputs": [
    {
     "data": {
      "text/plain": [
       "'{\"chart\":{\"result\":[{\"meta\":{\"currency\":\"TWD\",\"symbol\":\"2330.TW\",\"exchangeName\":\"TAI\",\"instrumentType\":\"EQUITY\",\"firstTradeDate\":946947600,\"regularMarketTime\":1645767004,\"gmtoffset\":28800,\"timezone\":\"CST\",\"exchangeTimezoneName\":\"Asia/Taipei\",\"regularMarketPrice\":604.0,\"chartPreviousClose\":69.649,\"priceHint\":2,\"currentTradingPeriod\":{\"pre\":{\"timezone\":\"CST\",\"start\":1645750800,\"end\":1645750800,\"gmtoffset\":28800},\"regular\":{\"timezone\":\"CST\",\"start\":1645750800,\"end\":1645767000,\"gmtoffset\":28800},\"post\":{\"timezone\":\"CST\",\"start\":1645767000,\"end\":1645767000,\"gmtoffset\":28800}},\"dataGranularity\":\"1d\",\"range\":\"\",\"validRanges\":[\"1d\",\"5d\",\"1mo\",\"3mo\",\"6mo\",\"1y\",\"2y\",\"5y\",\"10y\",\"ytd\",\"max\"]},\"timestamp\":[946947600,947034000,947120400,947206800,947466000,947552400,947638800,947725200,947811600,948070800,948157200,948243600,948330000,948416400,948675600,948762000,948848400,948934800,949021200,949280400,949366800,949453200,949539600,949626000,949885200,949971600,950058000,950144400,950230800,9504900'"
      ]
     },
     "execution_count": 10,
     "metadata": {},
     "output_type": "execute_result"
    }
   ],
   "source": [
    "import requests\n",
    "\n",
    "\n",
    "site = \"https://query1.finance.yahoo.com/v8/finance/chart/2330.TW?period1=0&period2=1549258857&interval=1d&events=history&=hP2rOschxO0\"\n",
    "response = requests.get(site,headers={'User-agent': 'Mozilla/5.0'})\n",
    "response.text[:1000]"
   ]
  },
  {
   "cell_type": "code",
   "execution_count": 13,
   "id": "3ff14b5f",
   "metadata": {},
   "outputs": [
    {
     "data": {
      "text/html": [
       "<div>\n",
       "<style scoped>\n",
       "    .dataframe tbody tr th:only-of-type {\n",
       "        vertical-align: middle;\n",
       "    }\n",
       "\n",
       "    .dataframe tbody tr th {\n",
       "        vertical-align: top;\n",
       "    }\n",
       "\n",
       "    .dataframe thead th {\n",
       "        text-align: right;\n",
       "    }\n",
       "</style>\n",
       "<table border=\"1\" class=\"dataframe\">\n",
       "  <thead>\n",
       "    <tr style=\"text-align: right;\">\n",
       "      <th></th>\n",
       "      <th>open</th>\n",
       "      <th>close</th>\n",
       "      <th>volume</th>\n",
       "      <th>low</th>\n",
       "      <th>high</th>\n",
       "    </tr>\n",
       "  </thead>\n",
       "  <tbody>\n",
       "    <tr>\n",
       "      <th>2000-01-04 01:00:00</th>\n",
       "      <td>69.649033</td>\n",
       "      <td>69.649033</td>\n",
       "      <td>2.006623e+11</td>\n",
       "      <td>68.475182</td>\n",
       "      <td>69.649033</td>\n",
       "    </tr>\n",
       "    <tr>\n",
       "      <th>2000-01-05 01:00:00</th>\n",
       "      <td>69.649033</td>\n",
       "      <td>71.214043</td>\n",
       "      <td>4.024668e+11</td>\n",
       "      <td>68.866341</td>\n",
       "      <td>71.214043</td>\n",
       "    </tr>\n",
       "    <tr>\n",
       "      <th>2000-01-06 01:00:00</th>\n",
       "      <td>70.822884</td>\n",
       "      <td>69.649033</td>\n",
       "      <td>1.975457e+11</td>\n",
       "      <td>69.649033</td>\n",
       "      <td>71.214043</td>\n",
       "    </tr>\n",
       "    <tr>\n",
       "      <th>2000-01-07 01:00:00</th>\n",
       "      <td>67.301331</td>\n",
       "      <td>67.692490</td>\n",
       "      <td>2.352703e+11</td>\n",
       "      <td>66.518639</td>\n",
       "      <td>68.475182</td>\n",
       "    </tr>\n",
       "    <tr>\n",
       "      <th>2000-01-10 01:00:00</th>\n",
       "      <td>69.649033</td>\n",
       "      <td>70.040192</td>\n",
       "      <td>2.761717e+11</td>\n",
       "      <td>68.475182</td>\n",
       "      <td>70.431351</td>\n",
       "    </tr>\n",
       "  </tbody>\n",
       "</table>\n",
       "</div>"
      ],
      "text/plain": [
       "                          open      close        volume        low       high\n",
       "2000-01-04 01:00:00  69.649033  69.649033  2.006623e+11  68.475182  69.649033\n",
       "2000-01-05 01:00:00  69.649033  71.214043  4.024668e+11  68.866341  71.214043\n",
       "2000-01-06 01:00:00  70.822884  69.649033  1.975457e+11  69.649033  71.214043\n",
       "2000-01-07 01:00:00  67.301331  67.692490  2.352703e+11  66.518639  68.475182\n",
       "2000-01-10 01:00:00  69.649033  70.040192  2.761717e+11  68.475182  70.431351"
      ]
     },
     "execution_count": 13,
     "metadata": {},
     "output_type": "execute_result"
    }
   ],
   "source": [
    "import json\n",
    "import numpy as np\n",
    "import pandas as pd\n",
    "\n",
    "data = json.loads(response.text)\n",
    "df = pd.DataFrame(data['chart']['result'][0]['indicators']['quote'][0], index=pd.to_datetime(np.array(data['chart']['result'][0]['timestamp'])*1000*1000*1000))\n",
    "df.head()"
   ]
  },
  {
   "cell_type": "code",
   "execution_count": 15,
   "id": "cf79f1e6",
   "metadata": {},
   "outputs": [
    {
     "data": {
      "text/plain": [
       "<AxesSubplot:>"
      ]
     },
     "execution_count": 15,
     "metadata": {},
     "output_type": "execute_result"
    },
    {
     "data": {
      "image/png": "[encoded data removed]",
      "text/plain": [
       "<Figure size 432x288 with 1 Axes>"
      ]
     },
     "metadata": {
      "needs_background": "light"
     },
     "output_type": "display_data"
    }
   ],
   "source": [
    "df.close.plot()"
   ]
  },
  {
   "cell_type": "code",
   "execution_count": null,
   "id": "ce31349c",
   "metadata": {},
   "outputs": [],
   "source": []
  }
 ],
 "metadata": {
  "kernelspec": {
   "display_name": "Python 3 (ipykernel)",
   "language": "python",
   "name": "python3"
  },
  "language_info": {
   "codemirror_mode": {
    "name": "ipython",
    "version": 3
   },
   "file_extension": ".py",
   "mimetype": "text/x-python",
   "name": "python",
   "nbconvert_exporter": "python",
   "pygments_lexer": "ipython3",
   "version": "3.10.2"
  }
 },
 "nbformat": 4,
 "nbformat_minor": 5
}
