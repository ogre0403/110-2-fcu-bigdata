{
 "cells": [
  {
   "cell_type": "code",
   "execution_count": 1,
   "id": "1e6fc49f",
   "metadata": {},
   "outputs": [
    {
     "data": {
      "text/plain": [
       "'{\"chart\":{\"result\":[{\"meta\":{\"currency\":\"TWD\",\"symbol\":\"2330.TW\",\"exchangeName\":\"TAI\",\"instrumentType\":\"EQUITY\",\"firstTradeDate\":946947600,\"regularMarketTime\":1648091921,\"gmtoffset\":28800,\"timezone\":\"CST\",\"exchangeTimezoneName\":\"Asia/Taipei\",\"regularMarketPrice\":590.0,\"chartPreviousClose\":69.649,\"priceHint\":2,\"currentTradingPeriod\":{\"pre\":{\"timezone\":\"CST\",\"start\":1648083600,\"end\":1648083600,\"gmtoffset\":28800},\"regular\":{\"timezone\":\"CST\",\"start\":1648083600,\"end\":1648099800,\"gmtoffset\":28800},\"post\":{\"timezone\":\"CST\",\"start\":1648099800,\"end\":1648099800,\"gmtoffset\":28800}},\"dataGranularity\":\"1mo\",\"range\":\"\",\"validRanges\":[\"1d\",\"5d\",\"1mo\",\"3mo\",\"6mo\",\"1y\",\"2y\",\"5y\",\"10y\",\"ytd\",\"max\"]},\"timestamp\":[949334400,951840000,954518400,957110400,959788800,962380800,965059200,967737600,970329600,973008000,975600000,978278400,980956800,983376000,986054400,988646400,991324800,993916800,996595200,999273600,1001865600,1004544000,1007136000,1009814400,1012492800,1014912000,1017590400,1020182400,10228608'"
      ]
     },
     "execution_count": 1,
     "metadata": {},
     "output_type": "execute_result"
    }
   ],
   "source": [
    "import requests\n",
    "\n",
    "\n",
    "site = \"https://query1.finance.yahoo.com/v8/finance/chart/2330.TW?period1=0&period2=1549258857&interval=1mo&events=history&=hP2rOschxO0\"\n",
    "response = requests.get(site,headers={'User-agent': 'Mozilla/5.0'})\n",
    "response.text[:1000]"
   ]
  },
  {
   "cell_type": "code",
   "execution_count": 2,
   "id": "be0fd1be",
   "metadata": {},
   "outputs": [],
   "source": [
    "import json\n",
    "import numpy as np\n",
    "import pandas as pd"
   ]
  },
  {
   "cell_type": "code",
   "execution_count": 3,
   "id": "ee54d807",
   "metadata": {},
   "outputs": [],
   "source": [
    "data = json.loads(response.text)"
   ]
  },
  {
   "cell_type": "code",
   "execution_count": 4,
   "id": "14009744",
   "metadata": {},
   "outputs": [
    {
     "data": {
      "text/html": [
       "<div>\n",
       "<style scoped>\n",
       "    .dataframe tbody tr th:only-of-type {\n",
       "        vertical-align: middle;\n",
       "    }\n",
       "\n",
       "    .dataframe tbody tr th {\n",
       "        vertical-align: top;\n",
       "    }\n",
       "\n",
       "    .dataframe thead th {\n",
       "        text-align: right;\n",
       "    }\n",
       "</style>\n",
       "<table border=\"1\" class=\"dataframe\">\n",
       "  <thead>\n",
       "    <tr style=\"text-align: right;\">\n",
       "      <th></th>\n",
       "      <th>low</th>\n",
       "      <th>volume</th>\n",
       "      <th>high</th>\n",
       "      <th>close</th>\n",
       "      <th>open</th>\n",
       "    </tr>\n",
       "  </thead>\n",
       "  <tbody>\n",
       "    <tr>\n",
       "      <th>949334400</th>\n",
       "      <td>74.344429</td>\n",
       "      <td>2105051075869</td>\n",
       "      <td>86.865616</td>\n",
       "      <td>78.648293</td>\n",
       "      <td>80.213676</td>\n",
       "    </tr>\n",
       "    <tr>\n",
       "      <th>951840000</th>\n",
       "      <td>67.301331</td>\n",
       "      <td>3729081599300</td>\n",
       "      <td>83.735229</td>\n",
       "      <td>80.213676</td>\n",
       "      <td>80.213676</td>\n",
       "    </tr>\n",
       "    <tr>\n",
       "      <th>954518400</th>\n",
       "      <td>68.475182</td>\n",
       "      <td>2886047091778</td>\n",
       "      <td>83.344070</td>\n",
       "      <td>77.083290</td>\n",
       "      <td>80.213676</td>\n",
       "    </tr>\n",
       "    <tr>\n",
       "      <th>957110400</th>\n",
       "      <td>69.257500</td>\n",
       "      <td>2198883235267</td>\n",
       "      <td>81.638123</td>\n",
       "      <td>78.632591</td>\n",
       "      <td>77.083290</td>\n",
       "    </tr>\n",
       "    <tr>\n",
       "      <th>959788800</th>\n",
       "      <td>70.368690</td>\n",
       "      <td>1362578196849</td>\n",
       "      <td>81.136963</td>\n",
       "      <td>73.123642</td>\n",
       "      <td>78.131905</td>\n",
       "    </tr>\n",
       "  </tbody>\n",
       "</table>\n",
       "</div>"
      ],
      "text/plain": [
       "                 low         volume       high      close       open\n",
       "949334400  74.344429  2105051075869  86.865616  78.648293  80.213676\n",
       "951840000  67.301331  3729081599300  83.735229  80.213676  80.213676\n",
       "954518400  68.475182  2886047091778  83.344070  77.083290  80.213676\n",
       "957110400  69.257500  2198883235267  81.638123  78.632591  77.083290\n",
       "959788800  70.368690  1362578196849  81.136963  73.123642  78.131905"
      ]
     },
     "execution_count": 4,
     "metadata": {},
     "output_type": "execute_result"
    }
   ],
   "source": [
    "df = pd.DataFrame(data['chart']['result'][0]['indicators']['quote'][0], index=data['chart']['result'][0]['timestamp'])\n",
    "df.head()"
   ]
  },
  {
   "cell_type": "code",
   "execution_count": 5,
   "id": "3ff14b5f",
   "metadata": {},
   "outputs": [
    {
     "data": {
      "text/html": [
       "<div>\n",
       "<style scoped>\n",
       "    .dataframe tbody tr th:only-of-type {\n",
       "        vertical-align: middle;\n",
       "    }\n",
       "\n",
       "    .dataframe tbody tr th {\n",
       "        vertical-align: top;\n",
       "    }\n",
       "\n",
       "    .dataframe thead th {\n",
       "        text-align: right;\n",
       "    }\n",
       "</style>\n",
       "<table border=\"1\" class=\"dataframe\">\n",
       "  <thead>\n",
       "    <tr style=\"text-align: right;\">\n",
       "      <th></th>\n",
       "      <th>low</th>\n",
       "      <th>volume</th>\n",
       "      <th>high</th>\n",
       "      <th>close</th>\n",
       "      <th>open</th>\n",
       "    </tr>\n",
       "  </thead>\n",
       "  <tbody>\n",
       "    <tr>\n",
       "      <th>2000-01-31 16:00:00</th>\n",
       "      <td>74.344429</td>\n",
       "      <td>2105051075869</td>\n",
       "      <td>86.865616</td>\n",
       "      <td>78.648293</td>\n",
       "      <td>80.213676</td>\n",
       "    </tr>\n",
       "    <tr>\n",
       "      <th>2000-02-29 16:00:00</th>\n",
       "      <td>67.301331</td>\n",
       "      <td>3729081599300</td>\n",
       "      <td>83.735229</td>\n",
       "      <td>80.213676</td>\n",
       "      <td>80.213676</td>\n",
       "    </tr>\n",
       "    <tr>\n",
       "      <th>2000-03-31 16:00:00</th>\n",
       "      <td>68.475182</td>\n",
       "      <td>2886047091778</td>\n",
       "      <td>83.344070</td>\n",
       "      <td>77.083290</td>\n",
       "      <td>80.213676</td>\n",
       "    </tr>\n",
       "    <tr>\n",
       "      <th>2000-04-30 16:00:00</th>\n",
       "      <td>69.257500</td>\n",
       "      <td>2198883235267</td>\n",
       "      <td>81.638123</td>\n",
       "      <td>78.632591</td>\n",
       "      <td>77.083290</td>\n",
       "    </tr>\n",
       "    <tr>\n",
       "      <th>2000-05-31 16:00:00</th>\n",
       "      <td>70.368690</td>\n",
       "      <td>1362578196849</td>\n",
       "      <td>81.136963</td>\n",
       "      <td>73.123642</td>\n",
       "      <td>78.131905</td>\n",
       "    </tr>\n",
       "  </tbody>\n",
       "</table>\n",
       "</div>"
      ],
      "text/plain": [
       "                           low         volume       high      close       open\n",
       "2000-01-31 16:00:00  74.344429  2105051075869  86.865616  78.648293  80.213676\n",
       "2000-02-29 16:00:00  67.301331  3729081599300  83.735229  80.213676  80.213676\n",
       "2000-03-31 16:00:00  68.475182  2886047091778  83.344070  77.083290  80.213676\n",
       "2000-04-30 16:00:00  69.257500  2198883235267  81.638123  78.632591  77.083290\n",
       "2000-05-31 16:00:00  70.368690  1362578196849  81.136963  73.123642  78.131905"
      ]
     },
     "execution_count": 5,
     "metadata": {},
     "output_type": "execute_result"
    }
   ],
   "source": [
    "df = pd.DataFrame(data['chart']['result'][0]['indicators']['quote'][0], index=pd.to_datetime(np.array(data['chart']['result'][0]['timestamp'])*1000*1000*1000))\n",
    "df.head()"
   ]
  },
  {
   "cell_type": "code",
   "execution_count": 6,
   "id": "cf79f1e6",
   "metadata": {},
   "outputs": [
    {
     "data": {
      "text/plain": [
       "<AxesSubplot:>"
      ]
     },
     "execution_count": 6,
     "metadata": {},
     "output_type": "execute_result"
    },
    {
     "data": {
      "image/png": "[encoded data removed]",
      "text/plain": [
       "<Figure size 432x288 with 1 Axes>"
      ]
     },
     "metadata": {
      "needs_background": "light"
     },
     "output_type": "display_data"
    }
   ],
   "source": [
    "df.close.plot()"
   ]
  },
  {
   "cell_type": "code",
   "execution_count": null,
   "id": "ce31349c",
   "metadata": {},
   "outputs": [],
   "source": []
  }
 ],
 "metadata": {
  "kernelspec": {
   "display_name": "Python 3 (ipykernel)",
   "language": "python",
   "name": "python3"
  },
  "language_info": {
   "codemirror_mode": {
    "name": "ipython",
    "version": 3
   },
   "file_extension": ".py",
   "mimetype": "text/x-python",
   "name": "python",
   "nbconvert_exporter": "python",
   "pygments_lexer": "ipython3",
   "version": "3.10.2"
  }
 },
 "nbformat": 4,
 "nbformat_minor": 5
}
