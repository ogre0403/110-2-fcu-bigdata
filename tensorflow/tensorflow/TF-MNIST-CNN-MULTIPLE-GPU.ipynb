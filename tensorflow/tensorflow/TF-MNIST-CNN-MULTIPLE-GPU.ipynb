{
 "cells": [
  {
   "cell_type": "code",
   "execution_count": null,
   "metadata": {},
   "outputs": [],
   "source": [
    "import numpy as np\n",
    "import tensorflow as tf\n",
    "import time\n",
    "\n",
    "# Import MNIST data\n",
    "from tensorflow.examples.tutorials.mnist import input_data\n",
    "import sys\n",
    "sys.path.append('../')\n",
    "from util.my_plot import plot_images_labels_prediction, plot_batch"
   ]
  },
  {
   "cell_type": "code",
   "execution_count": null,
   "metadata": {},
   "outputs": [],
   "source": [
    "mnist = input_data.read_data_sets(\"MNIST_data\", one_hot=True)"
   ]
  },
  {
   "cell_type": "code",
   "execution_count": null,
   "metadata": {},
   "outputs": [],
   "source": [
    "def kernel(name,shape):\n",
    "    return tf.get_variable(name+'_w', initializer=tf.truncated_normal(shape, stddev=0.1))"
   ]
  },
  {
   "cell_type": "code",
   "execution_count": null,
   "metadata": {},
   "outputs": [],
   "source": [
    "def conv2d(x, W):\n",
    "    return tf.nn.conv2d(x, W, strides=[1,1,1,1], padding='SAME')"
   ]
  },
  {
   "cell_type": "code",
   "execution_count": null,
   "metadata": {},
   "outputs": [],
   "source": [
    "def max_pool_2x2(x):\n",
    "    return tf.nn.max_pool(x, ksize=[1,2,2,1], strides=[1,2,2,1], padding='SAME')"
   ]
  },
  {
   "cell_type": "code",
   "execution_count": null,
   "metadata": {},
   "outputs": [],
   "source": [
    "def layer(name, output_dim,input_dim,inputs, activation=None):\n",
    "        \n",
    "    W = tf.get_variable(name+ '_w', initializer=tf.random_normal([input_dim, output_dim]))\n",
    "    b = tf.get_variable(name+ '_b', initializer=tf.random_normal([1,output_dim]))\n",
    "    \n",
    "    XWb = tf.matmul(inputs, W) + b\n",
    "    if activation is None:\n",
    "        outputs = XWb\n",
    "    else:\n",
    "        outputs = activation(XWb)\n",
    "    return outputs"
   ]
  },
  {
   "cell_type": "code",
   "execution_count": null,
   "metadata": {},
   "outputs": [],
   "source": [
    "# Build a convolutional neural network\n",
    "\n",
    "def conv_net(x, reuse):\n",
    "    \n",
    "    with tf.variable_scope('ConvNet', reuse=reuse):\n",
    "\n",
    "        x_image = tf.reshape(x, shape=[-1, 28, 28, 1])\n",
    "\n",
    "        # convolution       \n",
    "        W1 = kernel('cv1', [5 ,5, 1, 16])\n",
    "        Conv1 = conv2d(x_image, W1)\n",
    "        C1_Conv = tf.nn.relu(Conv1)\n",
    "\n",
    "        # max pool\n",
    "        C1_Pool = max_pool_2x2(C1_Conv)\n",
    "        \n",
    "        # convolution \n",
    "        W2 = kernel('cv2', [5 ,5, 16, 36])\n",
    "        Conv2 = conv2d(C1_Pool, W2)\n",
    "        C2_Conv = tf.nn.relu(Conv2)\n",
    "        \n",
    "        # max pool\n",
    "        C2_Pool = max_pool_2x2(C2_Conv)    \n",
    "        \n",
    "        \n",
    "        #MLP\n",
    "        D_Flat = tf.reshape(C2_Pool, [-1, 1764])\n",
    "        D_Hidden=layer(name='cv3', output_dim=256,input_dim=1764, inputs=D_Flat ,activation=tf.nn.relu)  \n",
    "        D_Hidden_Dropout= tf.nn.dropout(D_Hidden, keep_prob=0.5)\n",
    "        out=layer(name='cv4',output_dim=10,input_dim=256, inputs=D_Hidden_Dropout,activation=tf.nn.softmax)\n",
    "\n",
    "    return out"
   ]
  },
  {
   "cell_type": "code",
   "execution_count": null,
   "metadata": {},
   "outputs": [],
   "source": [
    "# Build the function to average the gradients\n",
    "def average_gradients(tower_grads):\n",
    "    average_grads = []\n",
    "    for grad_and_vars in zip(*tower_grads):\n",
    "        # Note that each grad_and_vars looks like the following:\n",
    "        #   ((grad0_gpu0, var0_gpu0), ... , (grad0_gpuN, var0_gpuN))\n",
    "        grads = []\n",
    "        for g, v in grad_and_vars:\n",
    "            # Add 0 dimension to the gradients to represent the tower.\n",
    "            expanded_g = tf.expand_dims(g, 0)\n",
    "\n",
    "            # Append on a 'tower' dimension which we will average over below.\n",
    "            grads.append(expanded_g)\n",
    "\n",
    "        # Average over the 'tower' dimension.\n",
    "        grad = tf.concat(grads, 0)\n",
    "        grad = tf.reduce_mean(grad, 0)\n",
    "\n",
    "        # Keep in mind that the Variables are redundant because they are shared\n",
    "        # across towers. So .. we will just return the first tower's pointer to\n",
    "        # the Variable.\n",
    "        v = grad_and_vars[0][1]\n",
    "        grad_and_var = (grad, v)\n",
    "        average_grads.append(grad_and_var)\n",
    "    return average_grads"
   ]
  },
  {
   "cell_type": "code",
   "execution_count": null,
   "metadata": {},
   "outputs": [],
   "source": [
    "# By default, all variables will be placed on '/gpu:0'\n",
    "# So we need a custom device function, to assign all variables to '/cpu:0'\n",
    "# Note: If GPUs are peered, '/gpu:0' can be a faster option\n",
    "PS_OPS = ['Variable', 'VariableV2', 'AutoReloadVariable']\n",
    "\n",
    "def assign_to_device(device, ps_device='/gpu:0'):\n",
    "    def _assign(op):\n",
    "        node_def = op if isinstance(op, tf.NodeDef) else op.node_def\n",
    "        if node_def.op in PS_OPS:\n",
    "            return \"/\" + ps_device\n",
    "        else:\n",
    "            return device\n",
    "\n",
    "    return _assign"
   ]
  },
  {
   "cell_type": "code",
   "execution_count": null,
   "metadata": {},
   "outputs": [],
   "source": [
    "# Place all ops on CPU by default\n",
    "num_gpus = 2\n",
    "\n",
    "with tf.device('/gpu:0'):\n",
    "    tower_grads = []\n",
    "    reuse_vars = False\n",
    "\n",
    "    # tf Graph input\n",
    "    X = tf.placeholder(tf.float32, [None, 784])\n",
    "    Y = tf.placeholder(tf.float32, [None, 10])\n",
    "\n",
    "    # Loop over all GPUs and construct their own computation graph\n",
    "    for i in range(num_gpus):\n",
    "        with tf.device(assign_to_device('/gpu:{}'.format(i), ps_device='/gpu:0')):\n",
    "\n",
    "\n",
    "            # Create a graph for training\n",
    "            logits_train = conv_net(X, reuse=reuse_vars)\n",
    "            \n",
    "\n",
    "            loss_op = tf.reduce_mean(tf.nn.softmax_cross_entropy_with_logits(logits=logits_train, labels=Y))\n",
    "            optimizer = tf.train.AdamOptimizer(learning_rate=0.001)\n",
    "            grads = optimizer.compute_gradients(loss_op)\n",
    "\n",
    "            correct_pred = tf.equal(tf.argmax(logits_train, 1), tf.argmax(Y, 1))\n",
    "            accuracy = tf.reduce_mean(tf.cast(correct_pred, tf.float32))\n",
    "\n",
    "            reuse_vars = True\n",
    "            tower_grads.append(grads)\n",
    "\n",
    "    tower_grads = average_gradients(tower_grads)\n",
    "    train_op = optimizer.apply_gradients(tower_grads)\n",
    "\n",
    "    "
   ]
  },
  {
   "cell_type": "markdown",
   "metadata": {},
   "source": [
    "# 開始訓練"
   ]
  },
  {
   "cell_type": "code",
   "execution_count": null,
   "metadata": {},
   "outputs": [],
   "source": [
    "trainEpochs = 15\n",
    "batchSize = 100\n",
    "totalBatchs = int(mnist.train.num_examples/batchSize)\n"
   ]
  },
  {
   "cell_type": "code",
   "execution_count": null,
   "metadata": {},
   "outputs": [],
   "source": [
    "print(totalBatchs)"
   ]
  },
  {
   "cell_type": "code",
   "execution_count": null,
   "metadata": {
    "scrolled": false
   },
   "outputs": [],
   "source": [
    "\n",
    "\n",
    "\n",
    "# Launch the graph\n",
    "sess=tf.Session()\n",
    "sess.run(tf.global_variables_initializer())\n",
    "\n",
    "\n",
    "for epoch in range(trainEpochs):\n",
    "    \n",
    "    for i in range(totalBatchs):\n",
    "        ts = time.time()\n",
    "        batch_x, batch_y = mnist.train.next_batch(batchSize * num_gpus)\n",
    "        sess.run(train_op, feed_dict={X: batch_x, Y: batch_y})\n",
    "        te = time.time() - ts\n",
    "\n",
    "    loss, acc = sess.run([loss_op, accuracy], feed_dict={X: batch_x,\n",
    "                                                         Y: batch_y})\n",
    "    \n",
    "    val_loss,val_acc = sess.run([loss_op,accuracy], feed_dict={X: mnist.validation.images, \n",
    "                               Y: mnist.validation.labels})\n",
    "        \n",
    "    print(\"Epoch \" + str(epoch+1) + \\\n",
    "          \": Loss= \" + \"{:.4f}\".format(loss) + \\\n",
    "          \", Accuracy= \" + \"{:.3f}\".format(acc) + \\\n",
    "          \", Val Loss \" + \"{:.4f}\".format(val_loss) + \\\n",
    "          \", Val Accuracy= \" + \"{:.3f}\".format(val_acc) + \\\n",
    "          \", %i Examples/sec\" % int(len(batch_x)/te))\n",
    "\n",
    "\n",
    "print(\"Optimization Finished!\")\n",
    "\n"
   ]
  },
  {
   "cell_type": "markdown",
   "metadata": {},
   "source": [
    "# 評估模型準確率"
   ]
  },
  {
   "cell_type": "code",
   "execution_count": null,
   "metadata": {},
   "outputs": [],
   "source": [
    "print(\"Accuracy:\", sess.run(accuracy,\n",
    "                           feed_dict={X: mnist.test.images,\n",
    "                                      Y: mnist.test.labels}))"
   ]
  },
  {
   "cell_type": "code",
   "execution_count": null,
   "metadata": {},
   "outputs": [],
   "source": [
    "prediction_result=sess.run(tf.argmax(logits_train,1),\n",
    "                           feed_dict={X: mnist.test.images })"
   ]
  },
  {
   "cell_type": "code",
   "execution_count": null,
   "metadata": {},
   "outputs": [],
   "source": [
    "prediction_result[:10]"
   ]
  },
  {
   "cell_type": "code",
   "execution_count": null,
   "metadata": {},
   "outputs": [],
   "source": [
    "mnist.test.images.shape\n",
    "aa = mnist.test.images.reshape(10000,28,28)\n",
    "prediction_result.shape\n",
    "mnist.test.labels"
   ]
  },
  {
   "cell_type": "code",
   "execution_count": null,
   "metadata": {},
   "outputs": [],
   "source": [
    "plot_images_labels_prediction(aa,\n",
    "                              np.argmax(mnist.test.labels,axis=1),\n",
    "                              prediction_result,0)"
   ]
  },
  {
   "cell_type": "code",
   "execution_count": null,
   "metadata": {},
   "outputs": [],
   "source": [
    "y_predict_Onehot=sess.run(logits_train,\n",
    "                          feed_dict={X: mnist.test.images })"
   ]
  },
  {
   "cell_type": "code",
   "execution_count": null,
   "metadata": {},
   "outputs": [],
   "source": [
    "y_predict_Onehot[8]"
   ]
  },
  {
   "cell_type": "markdown",
   "metadata": {},
   "source": [
    "# 針對位移過的圖進行預測"
   ]
  },
  {
   "cell_type": "code",
   "execution_count": null,
   "metadata": {},
   "outputs": [],
   "source": [
    "from util.my_plot import generate_shift_mnist_data\n",
    "class_names = ['0', '1', '2', '3', '4', '5', '6', '7', '8', '9']\n",
    "\n",
    "shift_img, shift_img_label = generate_shift_mnist_data(10000)\n",
    "plot_batch(shift_img, shift_img_label,class_names, 5)"
   ]
  },
  {
   "cell_type": "code",
   "execution_count": null,
   "metadata": {},
   "outputs": [],
   "source": [
    "from keras.utils import np_utils\n",
    "bb = shift_img.reshape(10000, 784)\n",
    "shift_img_label_OneHot = np_utils.to_categorical(shift_img_label)"
   ]
  },
  {
   "cell_type": "code",
   "execution_count": null,
   "metadata": {},
   "outputs": [],
   "source": [
    "print(\"Accuracy:\", sess.run(accuracy,\n",
    "                           feed_dict={X: bb,\n",
    "                                      Y: shift_img_label_OneHot}))"
   ]
  },
  {
   "cell_type": "code",
   "execution_count": null,
   "metadata": {},
   "outputs": [],
   "source": []
  },
  {
   "cell_type": "code",
   "execution_count": null,
   "metadata": {},
   "outputs": [],
   "source": []
  }
 ],
 "metadata": {
  "kernelspec": {
   "display_name": "Python 2",
   "language": "python",
   "name": "python2"
  },
  "language_info": {
   "codemirror_mode": {
    "name": "ipython",
    "version": 2
   },
   "file_extension": ".py",
   "mimetype": "text/x-python",
   "name": "python",
   "nbconvert_exporter": "python",
   "pygments_lexer": "ipython2",
   "version": "2.7.12"
  }
 },
 "nbformat": 4,
 "nbformat_minor": 2
}
