{
 "cells": [
  {
   "cell_type": "markdown",
   "metadata": {},
   "source": [
    "# 資料準備"
   ]
  },
  {
   "cell_type": "code",
   "execution_count": 1,
   "metadata": {},
   "outputs": [
    {
     "name": "stderr",
     "output_type": "stream",
     "text": [
      "Using TensorFlow backend.\n"
     ]
    }
   ],
   "source": [
    "import tensorflow as tf\n",
    "import numpy as np\n",
    "\n",
    "import tensorflow.examples.tutorials.mnist.input_data as input_data\n",
    "import sys\n",
    "sys.path.append('../')\n",
    "from util.my_plot import layer,plot_images_labels_prediction, plot_batch"
   ]
  },
  {
   "cell_type": "code",
   "execution_count": 2,
   "metadata": {},
   "outputs": [
    {
     "name": "stdout",
     "output_type": "stream",
     "text": [
      "WARNING:tensorflow:From <ipython-input-2-a839aeb82f4b>:1: read_data_sets (from tensorflow.contrib.learn.python.learn.datasets.mnist) is deprecated and will be removed in a future version.\n",
      "Instructions for updating:\n",
      "Please use alternatives such as official/mnist/dataset.py from tensorflow/models.\n",
      "WARNING:tensorflow:From /usr/local/lib/python2.7/dist-packages/tensorflow/contrib/learn/python/learn/datasets/mnist.py:260: maybe_download (from tensorflow.contrib.learn.python.learn.datasets.base) is deprecated and will be removed in a future version.\n",
      "Instructions for updating:\n",
      "Please write your own downloading logic.\n",
      "WARNING:tensorflow:From /usr/local/lib/python2.7/dist-packages/tensorflow/contrib/learn/python/learn/datasets/mnist.py:262: extract_images (from tensorflow.contrib.learn.python.learn.datasets.mnist) is deprecated and will be removed in a future version.\n",
      "Instructions for updating:\n",
      "Please use tf.data to implement this functionality.\n",
      "Extracting MNIST_data/train-images-idx3-ubyte.gz\n",
      "WARNING:tensorflow:From /usr/local/lib/python2.7/dist-packages/tensorflow/contrib/learn/python/learn/datasets/mnist.py:267: extract_labels (from tensorflow.contrib.learn.python.learn.datasets.mnist) is deprecated and will be removed in a future version.\n",
      "Instructions for updating:\n",
      "Please use tf.data to implement this functionality.\n",
      "Extracting MNIST_data/train-labels-idx1-ubyte.gz\n",
      "WARNING:tensorflow:From /usr/local/lib/python2.7/dist-packages/tensorflow/contrib/learn/python/learn/datasets/mnist.py:110: dense_to_one_hot (from tensorflow.contrib.learn.python.learn.datasets.mnist) is deprecated and will be removed in a future version.\n",
      "Instructions for updating:\n",
      "Please use tf.one_hot on tensors.\n",
      "Extracting MNIST_data/t10k-images-idx3-ubyte.gz\n",
      "Extracting MNIST_data/t10k-labels-idx1-ubyte.gz\n",
      "WARNING:tensorflow:From /usr/local/lib/python2.7/dist-packages/tensorflow/contrib/learn/python/learn/datasets/mnist.py:290: __init__ (from tensorflow.contrib.learn.python.learn.datasets.mnist) is deprecated and will be removed in a future version.\n",
      "Instructions for updating:\n",
      "Please use alternatives such as official/mnist/dataset.py from tensorflow/models.\n"
     ]
    }
   ],
   "source": [
    "mnist = input_data.read_data_sets(\"MNIST_data/\", one_hot=True)"
   ]
  },
  {
   "cell_type": "code",
   "execution_count": 3,
   "metadata": {},
   "outputs": [
    {
     "name": "stdout",
     "output_type": "stream",
     "text": [
      "('train images     :', (55000, 784), 'labels:', (55000, 10))\n",
      "('validation images:', (5000, 784), ' labels:', (5000, 10))\n",
      "('test images      :', (10000, 784), 'labels:', (10000, 10))\n"
     ]
    }
   ],
   "source": [
    "print('train images     :', mnist.train.images.shape,\n",
    "      'labels:'           , mnist.train.labels.shape)\n",
    "print('validation images:', mnist.validation.images.shape,\n",
    "      ' labels:'          , mnist.validation.labels.shape)\n",
    "print('test images      :', mnist.test.images.shape,\n",
    "      'labels:'           , mnist.test.labels.shape)"
   ]
  },
  {
   "cell_type": "code",
   "execution_count": null,
   "metadata": {},
   "outputs": [],
   "source": []
  },
  {
   "cell_type": "markdown",
   "metadata": {},
   "source": [
    "# 建立模型"
   ]
  },
  {
   "cell_type": "code",
   "execution_count": 4,
   "metadata": {},
   "outputs": [],
   "source": [
    "# 建立輸入層 x "
   ]
  },
  {
   "cell_type": "code",
   "execution_count": 5,
   "metadata": {},
   "outputs": [],
   "source": [
    "x = tf.placeholder(\"float\", [None, 784])"
   ]
  },
  {
   "cell_type": "code",
   "execution_count": 6,
   "metadata": {},
   "outputs": [],
   "source": [
    "# 建立隱藏層h1"
   ]
  },
  {
   "cell_type": "code",
   "execution_count": 9,
   "metadata": {},
   "outputs": [],
   "source": [
    "# h1=layer(output_dim=256,input_dim=784, inputs=x ,activation=tf.nn.relu)  \n",
    "D_Hidden=layer(output_dim=256,input_dim=784, inputs=x ,activation=tf.nn.relu)  \n",
    "D_Hidden_Dropout= tf.nn.dropout(D_Hidden, keep_prob=0.5)"
   ]
  },
  {
   "cell_type": "code",
   "execution_count": 10,
   "metadata": {},
   "outputs": [],
   "source": [
    "# 建立輸出層"
   ]
  },
  {
   "cell_type": "code",
   "execution_count": 11,
   "metadata": {},
   "outputs": [],
   "source": [
    "# y_predict=layer(output_dim=10,input_dim=256, inputs=h1,activation=None)\n",
    "y_predict=layer(output_dim=10,input_dim=256, inputs=D_Hidden_Dropout,activation=tf.nn.softmax)"
   ]
  },
  {
   "cell_type": "markdown",
   "metadata": {},
   "source": [
    "# 定義訓練方式"
   ]
  },
  {
   "cell_type": "code",
   "execution_count": 12,
   "metadata": {},
   "outputs": [],
   "source": [
    "#建立訓練資料label真實值 placeholder"
   ]
  },
  {
   "cell_type": "code",
   "execution_count": 13,
   "metadata": {},
   "outputs": [],
   "source": [
    "y_label = tf.placeholder(\"float\", [None, 10])"
   ]
  },
  {
   "cell_type": "code",
   "execution_count": 14,
   "metadata": {},
   "outputs": [],
   "source": [
    "#定義loss function"
   ]
  },
  {
   "cell_type": "code",
   "execution_count": 15,
   "metadata": {},
   "outputs": [
    {
     "name": "stdout",
     "output_type": "stream",
     "text": [
      "WARNING:tensorflow:From <ipython-input-15-626d5c252831>:2: softmax_cross_entropy_with_logits (from tensorflow.python.ops.nn_ops) is deprecated and will be removed in a future version.\n",
      "Instructions for updating:\n",
      "\n",
      "Future major versions of TensorFlow will allow gradients to flow\n",
      "into the labels input on backprop by default.\n",
      "\n",
      "See @{tf.nn.softmax_cross_entropy_with_logits_v2}.\n",
      "\n"
     ]
    }
   ],
   "source": [
    "loss_function = tf.reduce_mean(\n",
    "                  tf.nn.softmax_cross_entropy_with_logits(logits=y_predict, labels=y_label))"
   ]
  },
  {
   "cell_type": "code",
   "execution_count": 16,
   "metadata": {},
   "outputs": [],
   "source": [
    "#選擇optimizer"
   ]
  },
  {
   "cell_type": "code",
   "execution_count": 17,
   "metadata": {},
   "outputs": [],
   "source": [
    "optimizer = tf.train.AdamOptimizer(learning_rate=0.001).minimize(loss_function)"
   ]
  },
  {
   "cell_type": "markdown",
   "metadata": {},
   "source": [
    "# 定義評估模型的準確率"
   ]
  },
  {
   "cell_type": "code",
   "execution_count": 18,
   "metadata": {},
   "outputs": [],
   "source": [
    "#計算每一筆資料是否正確預測"
   ]
  },
  {
   "cell_type": "code",
   "execution_count": 19,
   "metadata": {},
   "outputs": [],
   "source": [
    "correct_prediction = tf.equal(tf.argmax(y_label  , 1),\n",
    "                              tf.argmax(y_predict, 1))"
   ]
  },
  {
   "cell_type": "code",
   "execution_count": 20,
   "metadata": {},
   "outputs": [],
   "source": [
    "#將計算預測正確結果，加總平均"
   ]
  },
  {
   "cell_type": "code",
   "execution_count": 21,
   "metadata": {},
   "outputs": [],
   "source": [
    "accuracy = tf.reduce_mean(tf.cast(correct_prediction, \"float\"))"
   ]
  },
  {
   "cell_type": "markdown",
   "metadata": {},
   "source": [
    "# 開始訓練"
   ]
  },
  {
   "cell_type": "code",
   "execution_count": 22,
   "metadata": {},
   "outputs": [],
   "source": [
    "trainEpochs = 15\n",
    "batchSize = 100\n",
    "totalBatchs = int(mnist.train.num_examples/batchSize)\n",
    "epoch_list=[]\n",
    "val_loss_list=[];val_accuracy_list=[]\n",
    "loss_list=[];accuracy_list=[]\n",
    "from time import time\n",
    "startTime=time()\n",
    "sess = tf.Session()\n",
    "sess.run(tf.global_variables_initializer())"
   ]
  },
  {
   "cell_type": "code",
   "execution_count": 23,
   "metadata": {},
   "outputs": [
    {
     "name": "stdout",
     "output_type": "stream",
     "text": [
      "550\n"
     ]
    }
   ],
   "source": [
    "print(totalBatchs)"
   ]
  },
  {
   "cell_type": "code",
   "execution_count": 24,
   "metadata": {},
   "outputs": [
    {
     "name": "stdout",
     "output_type": "stream",
     "text": [
      "('Train Epoch:', '01', 'Loss=', '2.324995279', ' Accuracy=', 0.12765455, 'val Loss=', '2.319737911', ' val_Accuracy=', 0.1352)\n",
      "('Train Epoch:', '02', 'Loss=', '2.276651621', ' Accuracy=', 0.17661819, 'val Loss=', '2.279949188', ' val_Accuracy=', 0.1754)\n",
      "('Train Epoch:', '03', 'Loss=', '2.214060068', ' Accuracy=', 0.23927273, 'val Loss=', '2.217663288', ' val_Accuracy=', 0.2348)\n",
      "('Train Epoch:', '04', 'Loss=', '2.123309374', ' Accuracy=', 0.33192727, 'val Loss=', '2.111759663', ' val_Accuracy=', 0.3456)\n",
      "('Train Epoch:', '05', 'Loss=', '2.035326958', ' Accuracy=', 0.42043635, 'val Loss=', '2.038725376', ' val_Accuracy=', 0.4178)\n",
      "('Train Epoch:', '06', 'Loss=', '1.966448903', ' Accuracy=', 0.4904, 'val Loss=', '1.953580022', ' val_Accuracy=', 0.5032)\n",
      "('Train Epoch:', '07', 'Loss=', '1.888724446', ' Accuracy=', 0.5699273, 'val Loss=', '1.891206264', ' val_Accuracy=', 0.5656)\n",
      "('Train Epoch:', '08', 'Loss=', '1.799361348', ' Accuracy=', 0.6697091, 'val Loss=', '1.793716073', ' val_Accuracy=', 0.6742)\n",
      "('Train Epoch:', '09', 'Loss=', '1.747713089', ' Accuracy=', 0.72792727, 'val Loss=', '1.734394908', ' val_Accuracy=', 0.7394)\n",
      "('Train Epoch:', '10', 'Loss=', '1.721477985', ' Accuracy=', 0.7579455, 'val Loss=', '1.708976746', ' val_Accuracy=', 0.7694)\n",
      "('Train Epoch:', '11', 'Loss=', '1.661067843', ' Accuracy=', 0.8246727, 'val Loss=', '1.650671482', ' val_Accuracy=', 0.8346)\n",
      "('Train Epoch:', '12', 'Loss=', '1.640160918', ' Accuracy=', 0.84394544, 'val Loss=', '1.628912926', ' val_Accuracy=', 0.8544)\n",
      "('Train Epoch:', '13', 'Loss=', '1.627843142', ' Accuracy=', 0.85614544, 'val Loss=', '1.614392042', ' val_Accuracy=', 0.8686)\n",
      "('Train Epoch:', '14', 'Loss=', '1.616553664', ' Accuracy=', 0.8661636, 'val Loss=', '1.603683829', ' val_Accuracy=', 0.8818)\n",
      "('Train Epoch:', '15', 'Loss=', '1.609875321', ' Accuracy=', 0.87061816, 'val Loss=', '1.597599268', ' val_Accuracy=', 0.883)\n",
      "('Train Finished takes:', 17.43805503845215)\n"
     ]
    }
   ],
   "source": [
    "# 進行多次實驗\n",
    "for epoch in range(trainEpochs):\n",
    "    # 每一步取一批做運算\n",
    "    for i in range(totalBatchs):\n",
    "        batch_x, batch_y = mnist.train.next_batch(batchSize)\n",
    "        sess.run(optimizer,feed_dict={x: batch_x/255 ,y_label: batch_y})\n",
    "    \n",
    "    # 計算training data的準確度 \n",
    "    loss,acc = sess.run([loss_function,accuracy], \n",
    "                        feed_dict={x: mnist.train.images/255, \n",
    "                                   y_label: mnist.train.labels})\n",
    "\n",
    "    \n",
    "    # 計算validate data的準確度 \n",
    "    val_loss,val_acc = sess.run([loss_function,accuracy], \n",
    "                                feed_dict={x: mnist.validation.images/255, \n",
    "                                           y_label: mnist.validation.labels})\n",
    "\n",
    "    \n",
    "    epoch_list.append(epoch)\n",
    "    loss_list.append(loss);accuracy_list.append(acc)    \n",
    "    val_loss_list.append(val_loss);val_accuracy_list.append(val_acc)    \n",
    "    print(\"Train Epoch:\", '%02d' % (epoch+1), \"Loss=\", \"{:.9f}\".format(loss), \" Accuracy=\",acc ,\"val Loss=\", \"{:.9f}\".format(val_loss),\" val_Accuracy=\",val_acc  )\n",
    "    \n",
    "duration =time()-startTime\n",
    "print(\"Train Finished takes:\",duration)      "
   ]
  },
  {
   "cell_type": "code",
   "execution_count": 25,
   "metadata": {},
   "outputs": [
    {
     "data": {
      "text/plain": [
       "<matplotlib.legend.Legend at 0x7fcbdaa319d0>"
      ]
     },
     "execution_count": 25,
     "metadata": {},
     "output_type": "execute_result"
    },
    {
     "data": {
      "image/png": "[encoded data removed]",
      "text/plain": [
       "<Figure size 288x144 with 1 Axes>"
      ]
     },
     "metadata": {},
     "output_type": "display_data"
    }
   ],
   "source": [
    "%matplotlib inline\n",
    "import matplotlib.pyplot as plt\n",
    "fig = plt.gcf()\n",
    "fig.set_size_inches(4,2)\n",
    "plt.plot(epoch_list, loss_list, label = 'loss')\n",
    "plt.plot(epoch_list, val_loss_list, label = 'val_loss')\n",
    "plt.ylabel('loss')\n",
    "plt.xlabel('epoch')\n",
    "plt.legend(['train', 'validation'], loc='upper left')\n"
   ]
  },
  {
   "cell_type": "code",
   "execution_count": 27,
   "metadata": {},
   "outputs": [
    {
     "data": {
      "image/png": "[encoded data removed]",
      "text/plain": [
       "<Figure size 288x144 with 1 Axes>"
      ]
     },
     "metadata": {},
     "output_type": "display_data"
    }
   ],
   "source": [
    "plt.plot(epoch_list, accuracy_list,label=\"accuracy\" )\n",
    "plt.plot(epoch_list, val_accuracy_list,label=\"accuracy\" )\n",
    "\n",
    "fig = plt.gcf()\n",
    "fig.set_size_inches(4,2)\n",
    "plt.ylim(0,1)\n",
    "plt.ylabel('accuracy')\n",
    "plt.xlabel('epoch')\n",
    "plt.legend(['train', 'validation'], loc='upper left')\n",
    "plt.show()"
   ]
  },
  {
   "cell_type": "markdown",
   "metadata": {},
   "source": [
    "# 評估模型準確率"
   ]
  },
  {
   "cell_type": "code",
   "execution_count": 28,
   "metadata": {},
   "outputs": [
    {
     "name": "stdout",
     "output_type": "stream",
     "text": [
      "('Accuracy:', 0.8776)\n"
     ]
    }
   ],
   "source": [
    "print(\"Accuracy:\", sess.run(accuracy,\n",
    "                           feed_dict={x: mnist.test.images/255,\n",
    "                                      y_label: mnist.test.labels}))"
   ]
  },
  {
   "cell_type": "markdown",
   "metadata": {},
   "source": [
    "# 進行預測"
   ]
  },
  {
   "cell_type": "code",
   "execution_count": 29,
   "metadata": {},
   "outputs": [],
   "source": [
    "prediction_result=sess.run(tf.argmax(y_predict,1),\n",
    "                           feed_dict={x: mnist.test.images/255 })"
   ]
  },
  {
   "cell_type": "code",
   "execution_count": 30,
   "metadata": {},
   "outputs": [
    {
     "data": {
      "text/plain": [
       "array([7, 2, 1, 0, 4, 1, 4, 9, 6, 9])"
      ]
     },
     "execution_count": 30,
     "metadata": {},
     "output_type": "execute_result"
    }
   ],
   "source": [
    "prediction_result[:10]"
   ]
  },
  {
   "cell_type": "code",
   "execution_count": 31,
   "metadata": {},
   "outputs": [
    {
     "data": {
      "text/plain": [
       "array([[0., 0., 0., ..., 1., 0., 0.],\n",
       "       [0., 0., 1., ..., 0., 0., 0.],\n",
       "       [0., 1., 0., ..., 0., 0., 0.],\n",
       "       ...,\n",
       "       [0., 0., 0., ..., 0., 0., 0.],\n",
       "       [0., 0., 0., ..., 0., 0., 0.],\n",
       "       [0., 0., 0., ..., 0., 0., 0.]])"
      ]
     },
     "execution_count": 31,
     "metadata": {},
     "output_type": "execute_result"
    }
   ],
   "source": [
    "mnist.test.images.shape\n",
    "aa = mnist.test.images.reshape(10000,28,28)\n",
    "prediction_result.shape\n",
    "mnist.test.labels"
   ]
  },
  {
   "cell_type": "code",
   "execution_count": 32,
   "metadata": {},
   "outputs": [
    {
     "data": {
      "image/png": "[encoded data removed]",
      "text/plain": [
       "<Figure size 864x1008 with 10 Axes>"
      ]
     },
     "metadata": {},
     "output_type": "display_data"
    }
   ],
   "source": [
    "plot_images_labels_prediction(aa,\n",
    "                              np.argmax(mnist.test.labels,axis=1),\n",
    "                              prediction_result,0)"
   ]
  },
  {
   "cell_type": "code",
   "execution_count": 33,
   "metadata": {},
   "outputs": [],
   "source": [
    "y_predict_Onehot=sess.run(y_predict,\n",
    "                          feed_dict={x: mnist.test.images/255 })"
   ]
  },
  {
   "cell_type": "code",
   "execution_count": 34,
   "metadata": {},
   "outputs": [
    {
     "data": {
      "text/plain": [
       "array([2.29798374e-04, 1.41619836e-07, 4.04333742e-03, 1.81410151e-10,\n",
       "       9.10502613e-01, 5.54624386e-03, 7.94113576e-02, 5.61987301e-09,\n",
       "       1.50527339e-04, 1.15891344e-04], dtype=float32)"
      ]
     },
     "execution_count": 34,
     "metadata": {},
     "output_type": "execute_result"
    }
   ],
   "source": [
    "y_predict_Onehot[8]"
   ]
  },
  {
   "cell_type": "markdown",
   "metadata": {},
   "source": [
    "# 針對位移過的圖進行預測"
   ]
  },
  {
   "cell_type": "code",
   "execution_count": 35,
   "metadata": {},
   "outputs": [
    {
     "name": "stderr",
     "output_type": "stream",
     "text": [
      "/usr/local/lib/python2.7/dist-packages/keras_preprocessing/image.py:1213: UserWarning: Expected input to be images (as Numpy array) following the data format convention \"channels_last\" (channels on axis 3), i.e. expected either 1, 3 or 4 channels on axis 3. However, it was passed an array with shape (60000, 1, 28, 28) (28 channels).\n",
      "  ' channels).')\n",
      "/usr/local/lib/python2.7/dist-packages/keras_preprocessing/image.py:1437: UserWarning: NumpyArrayIterator is set to use the data format convention \"channels_last\" (channels on axis 3), i.e. expected either 1, 3, or 4 channels on axis 3. However, it was passed an array with shape (60000, 1, 28, 28) (28 channels).\n",
      "  str(self.x.shape[channels_axis]) + ' channels).')\n"
     ]
    },
    {
     "data": {
      "image/png": "[encoded data removed]",
      "text/plain": [
       "<Figure size 720x720 with 5 Axes>"
      ]
     },
     "metadata": {},
     "output_type": "display_data"
    }
   ],
   "source": [
    "from util.my_plot import generate_shift_mnist_data\n",
    "class_names = ['0', '1', '2', '3', '4', '5', '6', '7', '8', '9']\n",
    "\n",
    "shift_img, shift_img_label = generate_shift_mnist_data(10000)\n",
    "plot_batch(shift_img, shift_img_label,class_names, 5)"
   ]
  },
  {
   "cell_type": "code",
   "execution_count": 36,
   "metadata": {},
   "outputs": [],
   "source": [
    "from keras.utils import np_utils\n",
    "bb = shift_img.reshape(10000, 784)\n",
    "shift_img_label_OneHot = np_utils.to_categorical(shift_img_label)"
   ]
  },
  {
   "cell_type": "code",
   "execution_count": 37,
   "metadata": {},
   "outputs": [
    {
     "name": "stdout",
     "output_type": "stream",
     "text": [
      "('Accuracy:', 0.3168)\n"
     ]
    }
   ],
   "source": [
    "print(\"Accuracy:\", sess.run(accuracy,\n",
    "                           feed_dict={x: bb/255,\n",
    "                                      y_label: shift_img_label_OneHot}))"
   ]
  },
  {
   "cell_type": "code",
   "execution_count": null,
   "metadata": {},
   "outputs": [],
   "source": []
  },
  {
   "cell_type": "code",
   "execution_count": null,
   "metadata": {},
   "outputs": [],
   "source": []
  },
  {
   "cell_type": "code",
   "execution_count": null,
   "metadata": {},
   "outputs": [],
   "source": [
    "sess.close()"
   ]
  },
  {
   "cell_type": "code",
   "execution_count": null,
   "metadata": {},
   "outputs": [],
   "source": []
  }
 ],
 "metadata": {
  "anaconda-cloud": {},
  "kernelspec": {
   "display_name": "Python 2",
   "language": "python",
   "name": "python2"
  },
  "language_info": {
   "codemirror_mode": {
    "name": "ipython",
    "version": 2
   },
   "file_extension": ".py",
   "mimetype": "text/x-python",
   "name": "python",
   "nbconvert_exporter": "python",
   "pygments_lexer": "ipython2",
   "version": "2.7.12"
  }
 },
 "nbformat": 4,
 "nbformat_minor": 1
}
