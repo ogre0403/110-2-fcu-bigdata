{
 "cells": [
  {
   "cell_type": "code",
   "execution_count": 1,
   "metadata": {},
   "outputs": [],
   "source": [
    "import tensorflow as tf\n",
    "import numpy as np"
   ]
  },
  {
   "cell_type": "markdown",
   "metadata": {},
   "source": [
    "# 建立 const "
   ]
  },
  {
   "cell_type": "code",
   "execution_count": 2,
   "metadata": {},
   "outputs": [],
   "source": [
    "#建立TensorFlow常數\n",
    "ts_c = tf.constant(2,name='ts_c')"
   ]
  },
  {
   "cell_type": "code",
   "execution_count": 3,
   "metadata": {},
   "outputs": [
    {
     "name": "stdout",
     "output_type": "stream",
     "text": [
      "Tensor(\"ts_c:0\", shape=(), dtype=int32)\n"
     ]
    }
   ],
   "source": [
    "#查看TensorFlow常數\n",
    "\n",
    "print(ts_c)"
   ]
  },
  {
   "cell_type": "markdown",
   "metadata": {},
   "source": [
    "# 建立 Variable"
   ]
  },
  {
   "cell_type": "code",
   "execution_count": 4,
   "metadata": {},
   "outputs": [],
   "source": [
    "#建立TensorFlow變數\n",
    "ts_x = tf.Variable(ts_c+5,name='ts_x')"
   ]
  },
  {
   "cell_type": "code",
   "execution_count": 5,
   "metadata": {},
   "outputs": [
    {
     "name": "stdout",
     "output_type": "stream",
     "text": [
      "<tf.Variable 'ts_x:0' shape=() dtype=int32_ref>\n"
     ]
    }
   ],
   "source": [
    "#查看TensorFlow變數\n",
    "ts_x\n",
    "print(ts_x)"
   ]
  },
  {
   "cell_type": "markdown",
   "metadata": {},
   "source": [
    "# 建立Session執行Computational Graph"
   ]
  },
  {
   "cell_type": "code",
   "execution_count": 6,
   "metadata": {},
   "outputs": [],
   "source": [
    "#建立session\n",
    "sess=tf.Session()"
   ]
  },
  {
   "cell_type": "code",
   "execution_count": 7,
   "metadata": {},
   "outputs": [],
   "source": [
    "#執行TensorFlow起始化變數\n",
    "init = tf.global_variables_initializer()\n",
    "sess.run(init)"
   ]
  },
  {
   "cell_type": "code",
   "execution_count": 8,
   "metadata": {},
   "outputs": [
    {
     "name": "stdout",
     "output_type": "stream",
     "text": [
      "('ts_c=', 2)\n"
     ]
    }
   ],
   "source": [
    "#使用sess.run顯示TensorFlow常數\n",
    "print('ts_c=',sess.run(ts_c))"
   ]
  },
  {
   "cell_type": "code",
   "execution_count": 9,
   "metadata": {},
   "outputs": [
    {
     "name": "stdout",
     "output_type": "stream",
     "text": [
      "('ts_x=', 7)\n"
     ]
    }
   ],
   "source": [
    "#使用sess.run顯示TensorFlow變數\n",
    "print('ts_x=',sess.run(ts_x))"
   ]
  },
  {
   "cell_type": "code",
   "execution_count": 10,
   "metadata": {},
   "outputs": [
    {
     "name": "stdout",
     "output_type": "stream",
     "text": [
      "('ts_c=', 2)\n"
     ]
    }
   ],
   "source": [
    "#使用.eval()方法顯示TensorFlow常數\n",
    "print('ts_c=',ts_c.eval(session=sess))"
   ]
  },
  {
   "cell_type": "code",
   "execution_count": 11,
   "metadata": {},
   "outputs": [
    {
     "name": "stdout",
     "output_type": "stream",
     "text": [
      "('ts_x=', 7)\n"
     ]
    }
   ],
   "source": [
    "#使用.eval()方法顯示TensorFlow變數\n",
    "print('ts_x=',ts_x.eval(session=sess))"
   ]
  },
  {
   "cell_type": "code",
   "execution_count": 12,
   "metadata": {},
   "outputs": [],
   "source": [
    "#關閉TensorFlow session\n",
    "sess.close()    "
   ]
  },
  {
   "cell_type": "markdown",
   "metadata": {},
   "source": [
    "# Session open close"
   ]
  },
  {
   "cell_type": "code",
   "execution_count": 13,
   "metadata": {},
   "outputs": [
    {
     "name": "stdout",
     "output_type": "stream",
     "text": [
      "('ts_c=', 2)\n",
      "('ts_x=', 7)\n"
     ]
    }
   ],
   "source": [
    "import tensorflow as tf\n",
    "ts_c = tf.constant(2,name='ts_c')\n",
    "ts_x = tf.Variable(ts_c+5,name='ts_x')\n",
    "\n",
    "sess=tf.Session()\n",
    "init = tf.global_variables_initializer()\n",
    "sess.run(init)\n",
    "print('ts_c=',sess.run(ts_c))\n",
    "print('ts_x=',sess.run(ts_x))\n",
    "sess.close()"
   ]
  },
  {
   "cell_type": "markdown",
   "metadata": {},
   "source": [
    "# With語法開啟Session"
   ]
  },
  {
   "cell_type": "code",
   "execution_count": 14,
   "metadata": {},
   "outputs": [
    {
     "name": "stdout",
     "output_type": "stream",
     "text": [
      "('ts_c=', 2)\n",
      "('ts_x=', 7)\n"
     ]
    }
   ],
   "source": [
    "import tensorflow as tf\n",
    "ts_c = tf.constant(2,name='ts_c')\n",
    "ts_x = tf.Variable(ts_c+5,name='ts_x')\n",
    "with tf.Session() as sess:\n",
    "    init = tf.global_variables_initializer()\n",
    "    sess.run(init)\n",
    "    print('ts_c=',sess.run(ts_c))\n",
    "    print('ts_x=',sess.run(ts_x))"
   ]
  },
  {
   "cell_type": "markdown",
   "metadata": {},
   "source": [
    "# placeholder"
   ]
  },
  {
   "cell_type": "code",
   "execution_count": 15,
   "metadata": {},
   "outputs": [],
   "source": [
    "width = tf.placeholder(\"int32\")\n",
    "height = tf.placeholder(\"int32\")\n",
    "area=tf.multiply(width,height)"
   ]
  },
  {
   "cell_type": "code",
   "execution_count": 16,
   "metadata": {},
   "outputs": [
    {
     "name": "stdout",
     "output_type": "stream",
     "text": [
      "('area=', 48)\n"
     ]
    }
   ],
   "source": [
    "with tf.Session() as sess:\n",
    "    init = tf.global_variables_initializer()\n",
    "    sess.run(init)\n",
    "    print('area=',sess.run(area,feed_dict={width: 6, height: 8}))"
   ]
  },
  {
   "cell_type": "code",
   "execution_count": null,
   "metadata": {},
   "outputs": [],
   "source": []
  },
  {
   "cell_type": "markdown",
   "metadata": {},
   "source": [
    "# Create dim  1 tensor"
   ]
  },
  {
   "cell_type": "code",
   "execution_count": 17,
   "metadata": {},
   "outputs": [
    {
     "name": "stdout",
     "output_type": "stream",
     "text": [
      "[0.4 0.2 0.4]\n"
     ]
    }
   ],
   "source": [
    "ts_X = tf.Variable([0.4,0.2,0.4])\n",
    "\n",
    "with tf.Session() as sess:\n",
    "    init = tf.global_variables_initializer()\n",
    "    sess.run(init)\n",
    "    X=sess.run(ts_X)\n",
    "    print(X)"
   ]
  },
  {
   "cell_type": "code",
   "execution_count": 18,
   "metadata": {},
   "outputs": [
    {
     "name": "stdout",
     "output_type": "stream",
     "text": [
      "(3,)\n"
     ]
    }
   ],
   "source": [
    "print(X.shape)"
   ]
  },
  {
   "cell_type": "markdown",
   "metadata": {},
   "source": [
    "# Create dim  2 tensor"
   ]
  },
  {
   "cell_type": "code",
   "execution_count": 19,
   "metadata": {},
   "outputs": [
    {
     "name": "stdout",
     "output_type": "stream",
     "text": [
      "[[0.4 0.2 0.4]]\n"
     ]
    }
   ],
   "source": [
    "ts_X = tf.Variable([[0.4,0.2,0.4]])\n",
    "\n",
    "with tf.Session() as sess:\n",
    "    init = tf.global_variables_initializer()\n",
    "    sess.run(init)\n",
    "    X=sess.run(ts_X)\n",
    "    print(X)   "
   ]
  },
  {
   "cell_type": "code",
   "execution_count": 20,
   "metadata": {},
   "outputs": [
    {
     "name": "stdout",
     "output_type": "stream",
     "text": [
      "('shape:', (1, 3))\n"
     ]
    }
   ],
   "source": [
    "print('shape:',X.shape)"
   ]
  },
  {
   "cell_type": "code",
   "execution_count": 21,
   "metadata": {},
   "outputs": [
    {
     "name": "stdout",
     "output_type": "stream",
     "text": [
      "[[-0.5 -0.2]\n",
      " [-0.3  0.4]\n",
      " [-0.5  0.2]]\n"
     ]
    }
   ],
   "source": [
    "W = tf.Variable([[-0.5,-0.2 ],\n",
    "                 [-0.3, 0.4 ],\n",
    "                 [-0.5, 0.2 ]])\n",
    "\n",
    "with tf.Session() as sess:\n",
    "    init = tf.global_variables_initializer()\n",
    "    sess.run(init)\n",
    "    W_array=sess.run(W)\n",
    "    print(W_array)   \n",
    "                        "
   ]
  },
  {
   "cell_type": "code",
   "execution_count": 22,
   "metadata": {},
   "outputs": [
    {
     "name": "stdout",
     "output_type": "stream",
     "text": [
      "(3, 2)\n"
     ]
    }
   ],
   "source": [
    "print(W_array.shape)"
   ]
  },
  {
   "cell_type": "markdown",
   "metadata": {},
   "source": [
    "# matmul (y=X * W)"
   ]
  },
  {
   "cell_type": "code",
   "execution_count": 23,
   "metadata": {},
   "outputs": [
    {
     "name": "stdout",
     "output_type": "stream",
     "text": [
      "[[-1.3  0.4]]\n"
     ]
    }
   ],
   "source": [
    "X = tf.Variable([[1.,1.,1.]])\n",
    "\n",
    "W = tf.Variable([[-0.5,-0.2 ],\n",
    "                 [-0.3, 0.4 ],\n",
    "                 [-0.5, 0.2 ]])\n",
    "                        \n",
    "XW =tf.matmul(X,W )\n",
    "                       \n",
    "with tf.Session() as sess:\n",
    "    init = tf.global_variables_initializer()\n",
    "    sess.run(init)\n",
    "    print(sess.run(XW ))"
   ]
  },
  {
   "cell_type": "markdown",
   "metadata": {},
   "source": [
    "# Y=X*W+b"
   ]
  },
  {
   "cell_type": "code",
   "execution_count": 24,
   "metadata": {},
   "outputs": [
    {
     "name": "stdout",
     "output_type": "stream",
     "text": [
      "XWb:\n",
      "[[-1.1999999  0.6      ]]\n"
     ]
    }
   ],
   "source": [
    "X = tf.Variable([[1.,1.,1.]])\n",
    "\n",
    "W = tf.Variable([[-0.5,-0.2 ],\n",
    "                 [-0.3, 0.4 ],\n",
    "                 [-0.5, 0.2 ]])\n",
    "                         \n",
    "\n",
    "b = tf.Variable([[0.1,0.2]])\n",
    "    \n",
    "XWb =tf.matmul(X,W)+b\n",
    "\n",
    "\n",
    "with tf.Session() as sess:\n",
    "    init = tf.global_variables_initializer()\n",
    "    sess.run(init)\n",
    "    print('XWb:')    \n",
    "    print(sess.run(XWb ))"
   ]
  },
  {
   "cell_type": "markdown",
   "metadata": {},
   "source": [
    "# Activation Function"
   ]
  },
  {
   "cell_type": "markdown",
   "metadata": {},
   "source": [
    "## relu"
   ]
  },
  {
   "cell_type": "code",
   "execution_count": 25,
   "metadata": {},
   "outputs": [
    {
     "name": "stderr",
     "output_type": "stream",
     "text": [
      "Using TensorFlow backend.\n"
     ]
    }
   ],
   "source": [
    "import sys\n",
    "sys.path.append('../')\n",
    "from util.my_plot import show_activation"
   ]
  },
  {
   "cell_type": "code",
   "execution_count": 26,
   "metadata": {},
   "outputs": [
    {
     "data": {
      "image/png": "[encoded data removed]",
      "text/plain": [
       "<Figure size 432x288 with 1 Axes>"
      ]
     },
     "metadata": {},
     "output_type": "display_data"
    }
   ],
   "source": [
    "show_activation(tf.nn.relu,y_lim=10)"
   ]
  },
  {
   "cell_type": "markdown",
   "metadata": {},
   "source": [
    "## y= relu ( (X․W ) + b )"
   ]
  },
  {
   "cell_type": "code",
   "execution_count": 27,
   "metadata": {},
   "outputs": [
    {
     "name": "stdout",
     "output_type": "stream",
     "text": [
      "XWb:\n",
      "[[-1.1999999  0.6      ]]\n",
      "y:\n",
      "[[0.  0.6]]\n"
     ]
    }
   ],
   "source": [
    "y=tf.nn.relu(XWb)\n",
    "\n",
    "with tf.Session() as sess:\n",
    "    init = tf.global_variables_initializer()\n",
    "    sess.run(init)\n",
    "    print('XWb:')    \n",
    "    print(sess.run(XWb ))    \n",
    "    print('y:')    \n",
    "    print(sess.run(y ))"
   ]
  },
  {
   "cell_type": "markdown",
   "metadata": {},
   "source": [
    "## sigmoid"
   ]
  },
  {
   "cell_type": "code",
   "execution_count": 28,
   "metadata": {},
   "outputs": [
    {
     "data": {
      "image/png": "[encoded data removed]",
      "text/plain": [
       "<Figure size 432x288 with 1 Axes>"
      ]
     },
     "metadata": {},
     "output_type": "display_data"
    }
   ],
   "source": [
    "show_activation(tf.nn.sigmoid,y_lim=1)"
   ]
  },
  {
   "cell_type": "markdown",
   "metadata": {},
   "source": [
    "# y= sigmoid ( (X․W ) + b )"
   ]
  },
  {
   "cell_type": "code",
   "execution_count": 29,
   "metadata": {},
   "outputs": [
    {
     "name": "stdout",
     "output_type": "stream",
     "text": [
      "XWb:\n",
      "[[-1.1999999  0.6      ]]\n",
      "y:\n",
      "[[0.23147522 0.6456563 ]]\n"
     ]
    }
   ],
   "source": [
    "y=tf.nn.sigmoid(tf.matmul(X,W)+b)\n",
    "\n",
    "with tf.Session() as sess:\n",
    "    init = tf.global_variables_initializer()\n",
    "    sess.run(init)\n",
    "    print('XWb:')    \n",
    "    print(sess.run(XWb))    \n",
    "    print('y:')    \n",
    "    print(sess.run(y ))"
   ]
  },
  {
   "cell_type": "code",
   "execution_count": null,
   "metadata": {},
   "outputs": [],
   "source": []
  },
  {
   "cell_type": "code",
   "execution_count": null,
   "metadata": {},
   "outputs": [],
   "source": []
  },
  {
   "cell_type": "markdown",
   "metadata": {},
   "source": [
    "# placeholder"
   ]
  },
  {
   "cell_type": "code",
   "execution_count": 30,
   "metadata": {},
   "outputs": [],
   "source": [
    "W = tf.Variable(tf.random_normal([3, 2]))\n",
    "b = tf.Variable(tf.random_normal([1, 2]))\n",
    "X = tf.placeholder(\"float\", [None,3])\n",
    "y=tf.nn.relu(tf.matmul(X,W)+b)"
   ]
  },
  {
   "cell_type": "code",
   "execution_count": 31,
   "metadata": {},
   "outputs": [
    {
     "name": "stdout",
     "output_type": "stream",
     "text": [
      "b:\n",
      "[[-0.8999285 -0.2823238]]\n",
      "W:\n",
      "[[ 0.01132684  0.34478822]\n",
      " [-0.8715888  -0.17273009]\n",
      " [-0.6897129   1.2811786 ]]\n",
      "X:\n",
      "[[0.4 0.2 0.4]]\n",
      "y:\n",
      "[[0.         0.33351693]]\n"
     ]
    }
   ],
   "source": [
    "# 1 筆 input\n",
    "with tf.Session() as sess:\n",
    "    init = tf.global_variables_initializer()\n",
    "    sess.run(init)\n",
    "    X_array = np.array([[0.4,0.2,0.4]])\n",
    "    (_b,_W,_X,_y)=sess.run((b,W,X,y),feed_dict={X:X_array})\n",
    "\n",
    "    print('b:')\n",
    "    print(_b)    \n",
    "    print('W:')\n",
    "    print(_W)\n",
    "    print('X:')\n",
    "    print(_X)\n",
    "    print('y:')\n",
    "    print(_y)"
   ]
  },
  {
   "cell_type": "code",
   "execution_count": 32,
   "metadata": {},
   "outputs": [
    {
     "name": "stdout",
     "output_type": "stream",
     "text": [
      "b:\n",
      "[[1.3542823  0.31040496]]\n",
      "W:\n",
      "[[-1.1396341   0.35470605]\n",
      " [-0.14201607 -0.6373754 ]\n",
      " [ 1.8116026   0.16591851]]\n",
      "X:\n",
      "[[ 0.4  0.2  0.4]\n",
      " [ 0.3  0.4  0.5]\n",
      " [ 0.3 -0.4  0.5]]\n",
      "y:\n",
      "[[1.5946664  0.3911797 ]\n",
      " [1.8613869  0.24482587]\n",
      " [1.9749997  0.7547262 ]]\n"
     ]
    }
   ],
   "source": [
    "# 3 筆 input\n",
    "with tf.Session() as sess:\n",
    "    init = tf.global_variables_initializer()\n",
    "    sess.run(init)\n",
    "    X_array = np.array([[0.4,0.2 ,0.4],\n",
    "                        [0.3,0.4 ,0.5],\n",
    "                        [0.3,-0.4,0.5]])    \n",
    "    (_b,_W,_X,_y)=sess.run((b,W,X,y),feed_dict={X:X_array})\n",
    "    print('b:')\n",
    "    print(_b)    \n",
    "    print('W:')\n",
    "    print(_W)\n",
    "    print('X:')\n",
    "    print(_X)\n",
    "    print('y:')\n",
    "    print(_y)"
   ]
  },
  {
   "cell_type": "code",
   "execution_count": null,
   "metadata": {},
   "outputs": [],
   "source": []
  },
  {
   "cell_type": "code",
   "execution_count": null,
   "metadata": {},
   "outputs": [],
   "source": []
  },
  {
   "cell_type": "markdown",
   "metadata": {},
   "source": [
    "# 自行定義layer函數"
   ]
  },
  {
   "cell_type": "code",
   "execution_count": 2,
   "metadata": {},
   "outputs": [],
   "source": [
    "def layer(output_dim,input_dim,inputs, activation=None):\n",
    "    W = tf.Variable(tf.random_normal([input_dim, output_dim]))\n",
    "    b = tf.Variable(tf.random_normal([1, output_dim]))\n",
    "    XWb = tf.matmul(inputs, W) + b\n",
    "    if activation is None:\n",
    "        outputs = XWb\n",
    "    else:\n",
    "        outputs = activation(XWb)\n",
    "    return outputs"
   ]
  },
  {
   "cell_type": "markdown",
   "metadata": {},
   "source": [
    "## 一層的 MLP"
   ]
  },
  {
   "cell_type": "code",
   "execution_count": 3,
   "metadata": {},
   "outputs": [
    {
     "name": "stdout",
     "output_type": "stream",
     "text": [
      "X:\n",
      "[[ 0.4  0.2  0.4]\n",
      " [ 0.3  0.4  0.5]\n",
      " [ 0.3 -0.4  0.5]]\n",
      "y:\n",
      "[[0.38369742 1.4844968 ]\n",
      " [0.31068224 1.6377066 ]\n",
      " [0.8863493  0.33614397]]\n"
     ]
    }
   ],
   "source": [
    "X = tf.placeholder(\"float\", [None,3])\n",
    "\n",
    "y=layer(output_dim=2,input_dim=3,inputs=X, activation=tf.nn.relu)\n",
    "\n",
    "with tf.Session() as sess:\n",
    "    init = tf.global_variables_initializer()\n",
    "    sess.run(init)\n",
    "    X_array = np.array([[0.4,0.2 ,0.4],\n",
    "                        [0.3,0.4 ,0.5],\n",
    "                        [0.3,-0.4,0.5]])    \n",
    "    (_X,_y)=sess.run((X,y),feed_dict={X:X_array})\n",
    "    print('X:')\n",
    "    print(_X)\n",
    "    print('y:')\n",
    "    print(_y)    \n",
    "    tf.summary.merge_all()\n",
    "    train_writer = tf.summary.FileWriter('log/area',sess.graph)"
   ]
  },
  {
   "cell_type": "markdown",
   "metadata": {},
   "source": [
    "## 二層的 MLP"
   ]
  },
  {
   "cell_type": "code",
   "execution_count": 35,
   "metadata": {},
   "outputs": [
    {
     "name": "stdout",
     "output_type": "stream",
     "text": [
      "input Layer X:\n",
      "[[0.4 0.2 0.4]]\n",
      "hidden Layer h:\n",
      "[[0.         0.03732502 0.         0.4891312 ]]\n",
      "output Layer y:\n",
      "[[ 0.18262772 -0.95183945]]\n"
     ]
    }
   ],
   "source": [
    "X = tf.placeholder(\"float\", [None,3])\n",
    "h=layer(output_dim=4,input_dim=3,inputs=X,\n",
    "        activation=tf.nn.relu)\n",
    "y=layer(output_dim=2,input_dim=4,inputs=h)\n",
    "with tf.Session() as sess:\n",
    "    init = tf.global_variables_initializer()\n",
    "    sess.run(init)\n",
    "    X_array = np.array([[0.4,0.2 ,0.4]])    \n",
    "    (layer_X,layer_h,layer_y)= sess.run((X,h,y),feed_dict={X:X_array})\n",
    "    print('input Layer X:')\n",
    "    print(layer_X)\n",
    "    print('hidden Layer h:')\n",
    "    print(layer_h)\n",
    "    print('output Layer y:')\n",
    "    print(layer_y)"
   ]
  },
  {
   "cell_type": "code",
   "execution_count": null,
   "metadata": {},
   "outputs": [],
   "source": []
  }
 ],
 "metadata": {
  "anaconda-cloud": {},
  "kernelspec": {
   "display_name": "Python 2",
   "language": "python",
   "name": "python2"
  },
  "language_info": {
   "codemirror_mode": {
    "name": "ipython",
    "version": 2
   },
   "file_extension": ".py",
   "mimetype": "text/x-python",
   "name": "python",
   "nbconvert_exporter": "python",
   "pygments_lexer": "ipython2",
   "version": "2.7.12"
  }
 },
 "nbformat": 4,
 "nbformat_minor": 1
}
