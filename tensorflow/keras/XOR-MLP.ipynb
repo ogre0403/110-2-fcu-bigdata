{
 "cells": [
  {
   "cell_type": "code",
   "execution_count": 33,
   "metadata": {},
   "outputs": [],
   "source": [
    "import numpy\n",
    "from matplotlib.colors import ListedColormap\n",
    "import matplotlib.pyplot as plt\n",
    "\n",
    "# The following code is used for hiding the warnings and make this notebook clearer.\n",
    "import warnings\n",
    "warnings.filterwarnings('ignore')"
   ]
  },
  {
   "cell_type": "code",
   "execution_count": 34,
   "metadata": {},
   "outputs": [],
   "source": [
    "def sigmoid(x):\n",
    "    return 1/(1+np.exp(-x))\n",
    "\n",
    "def sigmoid_derivative(x):\n",
    "    return x*(1-x)"
   ]
  },
  {
   "cell_type": "code",
   "execution_count": 35,
   "metadata": {},
   "outputs": [],
   "source": [
    "import numpy as np\n",
    "def plot_decision_regions(X, y, classifier, test_idx=None, resolution=0.02):\n",
    "\n",
    "    # setup marker generator and color map\n",
    "    markers = ('s', 'x', 'o', '^', 'v')\n",
    "    colors = ('red', 'blue', 'lightgreen', 'gray', 'cyan')\n",
    "    cmap = ListedColormap(colors[:len(np.unique(y))])\n",
    "\n",
    "    # plot the decision surface\n",
    "    x1_min, x1_max = X[:, 0].min() - 1, X[:, 0].max() + 1\n",
    "    x2_min, x2_max = X[:, 1].min() - 1, X[:, 1].max() + 1\n",
    "    xx1, xx2 = np.meshgrid(np.arange(x1_min, x1_max, resolution),\n",
    "                           np.arange(x2_min, x2_max, resolution))\n",
    "    Z = classifier.predict(np.array([xx1.ravel(), xx2.ravel()]).T)\n",
    "    Z = Z.reshape(xx1.shape)\n",
    "    plt.contourf(xx1, xx2, Z, alpha=0.4, cmap=cmap)\n",
    "    plt.xlim(xx1.min(), xx1.max())\n",
    "    plt.ylim(xx2.min(), xx2.max())\n",
    "\n",
    "    # plot class samples\n",
    "    for idx, cl in enumerate(np.unique(y)):\n",
    "        plt.scatter(x=X[y == cl, 0], y=X[y == cl, 1],\n",
    "                    alpha=0.8, c=cmap(idx),\n",
    "                    marker=markers[idx], label=cl)\n",
    "\n",
    "    # highlight test samples\n",
    "    if test_idx:\n",
    "        # plot all samples\n",
    "        X_test, y_test = X[test_idx, :], y[test_idx]\n",
    "\n",
    "        plt.scatter(X_test[:, 0],\n",
    "                    X_test[:, 1],\n",
    "                    c='',\n",
    "                    alpha=1.0,\n",
    "                    linewidths=1,\n",
    "                    marker='o',\n",
    "                    s=55, label='test set')"
   ]
  },
  {
   "cell_type": "code",
   "execution_count": 36,
   "metadata": {},
   "outputs": [],
   "source": [
    "class NeuralNetwork:\n",
    "    #########\n",
    "    # parameters\n",
    "    # ----------\n",
    "    # self:      the class object itself\n",
    "    # net_arch:  consists of a list of integers, indicating\n",
    "    #            the number of neurons in each layer, i.e. the network architecture\n",
    "    #########\n",
    "    def __init__(self, net_arch):\n",
    "        numpy.random.seed(0)\n",
    "        \n",
    "        # Initialized the weights, making sure we also \n",
    "        # initialize the weights for the biases that we will add later\n",
    "        self.activity = sigmoid\n",
    "        self.activity_derivative = sigmoid_derivative\n",
    "        self.layers = len(net_arch)\n",
    "        self.steps_per_epoch = 1\n",
    "        self.arch = net_arch\n",
    "        self.weights = []\n",
    "\n",
    "        # Random initialization with range of weight values (-1,1)\n",
    "        for layer in range(self.layers - 1):\n",
    "            w = 2*numpy.random.rand(net_arch[layer] + 1, net_arch[layer+1]) - 1\n",
    "            self.weights.append(w)\n",
    "    \n",
    "    def _forward_prop(self, x):\n",
    "        y = x\n",
    "\n",
    "        for i in range(len(self.weights)-1):\n",
    "            activation = numpy.dot(y[i], self.weights[i])\n",
    "            activity = self.activity(activation)\n",
    "\n",
    "            # add the bias for the next layer\n",
    "            activity = numpy.concatenate((numpy.ones(1), numpy.array(activity)))\n",
    "            y.append(activity)\n",
    "\n",
    "        # last layer\n",
    "        activation = numpy.dot(y[-1], self.weights[-1])\n",
    "        activity = self.activity(activation)\n",
    "        y.append(activity)\n",
    "        \n",
    "        return y\n",
    "    \n",
    "    def _back_prop(self, y, target, learning_rate):\n",
    "        error = target - y[-1]\n",
    "        delta_vec = [error * self.activity_derivative(y[-1])]\n",
    "\n",
    "        # we need to begin from the back, from the next to last layer\n",
    "        for i in range(self.layers-2, 0, -1):\n",
    "            error = delta_vec[-1].dot(self.weights[i][1:].T)\n",
    "            error = error*self.activity_derivative(y[i][1:])\n",
    "            delta_vec.append(error)\n",
    "\n",
    "        # Now we need to set the values from back to front\n",
    "        delta_vec.reverse()\n",
    "        \n",
    "        # Finally, we adjust the weights, using the backpropagation rules\n",
    "        for i in range(len(self.weights)):\n",
    "            layer = y[i].reshape(1, self.arch[i]+1)\n",
    "            delta = delta_vec[i].reshape(1, self.arch[i+1])\n",
    "            self.weights[i] += learning_rate*layer.T.dot(delta)\n",
    "    \n",
    "    #########\n",
    "    # parameters\n",
    "    # ----------\n",
    "    # self:    the class object itself\n",
    "    # data:    the set of all possible pairs of booleans True or False indicated by the integers 1 or 0\n",
    "    # labels:  the result of the logical operation 'xor' on each of those input pairs\n",
    "    #########\n",
    "    def fit(self, data, labels, learning_rate=0.1, epochs=100):\n",
    "        \n",
    "        # Add bias units to the input layer - \n",
    "        # add a \"1\" to the input data (the always-on bias neuron)\n",
    "        ones = numpy.ones((1, data.shape[0]))\n",
    "        Z = numpy.concatenate((ones.T, data), axis=1)\n",
    "        \n",
    "        for k in range(epochs):\n",
    "            if (k+1) % 10000 == 0:\n",
    "                print('epochs: {}'.format(k+1))\n",
    "        \n",
    "            sample = numpy.random.randint(X.shape[0])\n",
    "\n",
    "            # We will now go ahead and set up our feed-forward propagation:\n",
    "            x = [Z[sample]]\n",
    "            y = self._forward_prop(x)\n",
    "\n",
    "            # Now we do our back-propagation of the error to adjust the weights:\n",
    "            target = labels[sample]\n",
    "            self._back_prop(y, target, learning_rate)\n",
    "    \n",
    "    #########\n",
    "    # the predict function is used to check the prediction result of\n",
    "    # this neural network.\n",
    "    # \n",
    "    # parameters\n",
    "    # ----------\n",
    "    # self:   the class object itself\n",
    "    # x:      single input data\n",
    "    #########\n",
    "    def predict_single_data(self, x):\n",
    "        val = numpy.concatenate((numpy.ones(1).T, numpy.array(x)))\n",
    "        for i in range(0, len(self.weights)):\n",
    "            val = self.activity(numpy.dot(val, self.weights[i]))\n",
    "            val = numpy.concatenate((numpy.ones(1).T, numpy.array(val)))\n",
    "        return val[1]\n",
    "    \n",
    "    #########\n",
    "    # the predict function is used to check the prediction result of\n",
    "    # this neural network.\n",
    "    # \n",
    "    # parameters\n",
    "    # ----------\n",
    "    # self:   the class object itself\n",
    "    # X:      the input data array\n",
    "    #########\n",
    "    def predict(self, X):\n",
    "        Y = numpy.array([]).reshape(0, self.arch[-1])\n",
    "        for x in X:\n",
    "            y = numpy.array([[self.predict_single_data(x)]])\n",
    "            Y = numpy.vstack((Y,y))\n",
    "        return Y"
   ]
  },
  {
   "cell_type": "code",
   "execution_count": 47,
   "metadata": {},
   "outputs": [
    {
     "name": "stdout",
     "output_type": "stream",
     "text": [
      "epochs: 10000\n",
      "epochs: 20000\n",
      "epochs: 30000\n",
      "epochs: 40000\n",
      "epochs: 50000\n",
      "Final prediction\n",
      "(array([0, 0]), 0.01617644078741491)\n",
      "(array([0, 1]), 0.9787938387615452)\n",
      "(array([1, 0]), 0.9806566903225887)\n",
      "(array([1, 1]), 0.0224864146950813)\n"
     ]
    }
   ],
   "source": [
    "numpy.random.seed(0)\n",
    "\n",
    "# Initialize the NeuralNetwork with\n",
    "# 2 input neurons\n",
    "# 2 hidden neurons\n",
    "# 1 output neuron\n",
    "nn = NeuralNetwork([2,10,6,1])\n",
    "\n",
    "# Set the input data\n",
    "X = numpy.array([[0, 0], [0, 1],\n",
    "                [1, 0], [1, 1]])\n",
    "\n",
    "# Set the labels, the correct results for the xor operation\n",
    "y = numpy.array([0, 1, \n",
    "                 1, 0])\n",
    "\n",
    "# Call the fit function and train the network for a chosen number of epochs\n",
    "nn.fit(X, y, epochs=50000)\n",
    "\n",
    "# Show the prediction results\n",
    "print(\"Final prediction\")\n",
    "for s in X:\n",
    "    print(s, nn.predict_single_data(s))"
   ]
  },
  {
   "cell_type": "code",
   "execution_count": 41,
   "metadata": {},
   "outputs": [
    {
     "name": "stdout",
     "output_type": "stream",
     "text": [
      "epochs: 10000\n",
      "epochs: 20000\n",
      "epochs: 30000\n",
      "epochs: 40000\n",
      "epochs: 50000\n"
     ]
    },
    {
     "data": {
      "image/png": "[encoded data removed]",
      "text/plain": [
       "<Figure size 432x288 with 1 Axes>"
      ]
     },
     "metadata": {},
     "output_type": "display_data"
    }
   ],
   "source": [
    "# numpy.random.seed(0)\n",
    "nn = NeuralNetwork([2,2,1])\n",
    "nn.fit(X, y, epochs=50000)\n",
    "plot_decision_regions(X, y, nn)\n",
    "plt.xlabel('x-axis')\n",
    "plt.ylabel('y-axis')\n",
    "plt.legend(loc='upper left')\n",
    "plt.tight_layout()\n",
    "plt.show()\n"
   ]
  },
  {
   "cell_type": "code",
   "execution_count": 46,
   "metadata": {},
   "outputs": [
    {
     "name": "stdout",
     "output_type": "stream",
     "text": [
      "epochs: 10000\n",
      "epochs: 20000\n",
      "epochs: 30000\n",
      "epochs: 40000\n",
      "epochs: 50000\n"
     ]
    },
    {
     "data": {
      "image/png": "[encoded data removed]",
      "text/plain": [
       "<Figure size 432x288 with 1 Axes>"
      ]
     },
     "metadata": {},
     "output_type": "display_data"
    }
   ],
   "source": [
    "# numpy.random.seed(0)\n",
    "nn = NeuralNetwork([2,10,6,1])\n",
    "nn.fit(X, y, epochs=50000)\n",
    "plot_decision_regions(X, y, nn)\n",
    "plt.xlabel('x-axis')\n",
    "plt.ylabel('y-axis')\n",
    "plt.legend(loc='upper left')\n",
    "plt.tight_layout()\n",
    "plt.show()"
   ]
  },
  {
   "cell_type": "code",
   "execution_count": null,
   "metadata": {},
   "outputs": [],
   "source": []
  }
 ],
 "metadata": {
  "kernelspec": {
   "display_name": "Python 2",
   "language": "python",
   "name": "python2"
  },
  "language_info": {
   "codemirror_mode": {
    "name": "ipython",
    "version": 2
   },
   "file_extension": ".py",
   "mimetype": "text/x-python",
   "name": "python",
   "nbconvert_exporter": "python",
   "pygments_lexer": "ipython2",
   "version": "2.7.12"
  }
 },
 "nbformat": 4,
 "nbformat_minor": 2
}
